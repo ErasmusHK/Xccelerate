{
 "cells": [
  {
   "cell_type": "code",
   "execution_count": 4,
   "metadata": {},
   "outputs": [],
   "source": [
    "import requests\n",
    "import json\n",
    "from bs4 import BeautifulSoup"
   ]
  },
  {
   "cell_type": "markdown",
   "metadata": {},
   "source": [
    "Problem 1)"
   ]
  },
  {
   "cell_type": "code",
   "execution_count": 5,
   "metadata": {},
   "outputs": [],
   "source": [
    "def CarParkInfo():\n",
    "    result = []\n",
    "    content = json.loads(requests.get(\"https://openapi.westkowloon.hk/datagovhk/carpark\").text)\n",
    "    for i in range(2) :\n",
    "        result.append(content['carParks'][i]['name']['en'])\n",
    "        result.append(content['carParks'][i]['heightLimit'])\n",
    "    #print() # uncomment to use for visualizing variables etc.\n",
    "\n",
    "    return result"
   ]
  },
  {
   "cell_type": "code",
   "execution_count": 6,
   "metadata": {},
   "outputs": [
    {
     "data": {
      "text/plain": [
       "['Xiqu Centre Car Park, West Kowloon Cultural District',\n",
       " 'N/A',\n",
       " 'Art Park (Zone E) Car Park, West Kowloon Cultural District',\n",
       " 2.1]"
      ]
     },
     "execution_count": 6,
     "metadata": {},
     "output_type": "execute_result"
    }
   ],
   "source": [
    "CarParkInfo()"
   ]
  },
  {
   "cell_type": "markdown",
   "metadata": {},
   "source": [
    "Problem 2)"
   ]
  },
  {
   "cell_type": "code",
   "execution_count": 7,
   "metadata": {},
   "outputs": [],
   "source": [
    "def findTotalSum(n):\n",
    "    sum = 0\n",
    "    for i in range(1,n+1) :\n",
    "        soup = BeautifulSoup(requests.get(f\"https://books.toscrape.com/catalogue/page-{i}.html\").text,\"html.parser\")\n",
    "        data = soup.find_all(\"p\",class_=\"price_color\")\n",
    "        for j in range(len(data)) :\n",
    "            sum += float(data[j].text.replace(\"Â£\",\"\"))\n",
    "    #print() # uncomment to use for visualizing variables etc.\n",
    "\n",
    "    return sum"
   ]
  },
  {
   "cell_type": "code",
   "execution_count": 8,
   "metadata": {},
   "outputs": [
    {
     "data": {
      "text/plain": [
       "760.97"
      ]
     },
     "execution_count": 8,
     "metadata": {},
     "output_type": "execute_result"
    }
   ],
   "source": [
    "findTotalSum(1)"
   ]
  },
  {
   "cell_type": "code",
   "execution_count": 9,
   "metadata": {},
   "outputs": [
    {
     "data": {
      "text/plain": [
       "2100.16"
      ]
     },
     "execution_count": 9,
     "metadata": {},
     "output_type": "execute_result"
    }
   ],
   "source": [
    "findTotalSum(3)"
   ]
  }
 ],
 "metadata": {
  "kernelspec": {
   "display_name": "Python 3.10.6 64-bit",
   "language": "python",
   "name": "python3"
  },
  "language_info": {
   "codemirror_mode": {
    "name": "ipython",
    "version": 3
   },
   "file_extension": ".py",
   "mimetype": "text/x-python",
   "name": "python",
   "nbconvert_exporter": "python",
   "pygments_lexer": "ipython3",
   "version": "3.10.6"
  },
  "orig_nbformat": 4,
  "vscode": {
   "interpreter": {
    "hash": "d3dc24cc7e02586248f8d00edbc6455c95af5b22abe18b79a1c967fbdeaf1c4e"
   }
  }
 },
 "nbformat": 4,
 "nbformat_minor": 2
}
