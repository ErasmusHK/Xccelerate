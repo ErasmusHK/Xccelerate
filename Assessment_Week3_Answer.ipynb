{
 "cells": [
  {
   "cell_type": "code",
   "execution_count": 240,
   "metadata": {},
   "outputs": [],
   "source": [
    "import os\n",
    "import numpy as np\n",
    "import pandas as pd"
   ]
  },
  {
   "cell_type": "code",
   "execution_count": 241,
   "metadata": {},
   "outputs": [
    {
     "data": {
      "text/html": [
       "<div>\n",
       "<style scoped>\n",
       "    .dataframe tbody tr th:only-of-type {\n",
       "        vertical-align: middle;\n",
       "    }\n",
       "\n",
       "    .dataframe tbody tr th {\n",
       "        vertical-align: top;\n",
       "    }\n",
       "\n",
       "    .dataframe thead th {\n",
       "        text-align: right;\n",
       "    }\n",
       "</style>\n",
       "<table border=\"1\" class=\"dataframe\">\n",
       "  <thead>\n",
       "    <tr style=\"text-align: right;\">\n",
       "      <th></th>\n",
       "      <th>A</th>\n",
       "      <th>B</th>\n",
       "      <th>C</th>\n",
       "      <th>D</th>\n",
       "    </tr>\n",
       "  </thead>\n",
       "  <tbody>\n",
       "    <tr>\n",
       "      <th>0</th>\n",
       "      <td>1</td>\n",
       "      <td>0</td>\n",
       "      <td>0</td>\n",
       "      <td>1</td>\n",
       "    </tr>\n",
       "    <tr>\n",
       "      <th>1</th>\n",
       "      <td>0</td>\n",
       "      <td>1</td>\n",
       "      <td>1</td>\n",
       "      <td>0</td>\n",
       "    </tr>\n",
       "    <tr>\n",
       "      <th>2</th>\n",
       "      <td>0</td>\n",
       "      <td>1</td>\n",
       "      <td>1</td>\n",
       "      <td>0</td>\n",
       "    </tr>\n",
       "    <tr>\n",
       "      <th>3</th>\n",
       "      <td>1</td>\n",
       "      <td>0</td>\n",
       "      <td>0</td>\n",
       "      <td>1</td>\n",
       "    </tr>\n",
       "  </tbody>\n",
       "</table>\n",
       "</div>"
      ],
      "text/plain": [
       "   A  B  C  D\n",
       "0  1  0  0  1\n",
       "1  0  1  1  0\n",
       "2  0  1  1  0\n",
       "3  1  0  0  1"
      ]
     },
     "execution_count": 241,
     "metadata": {},
     "output_type": "execute_result"
    }
   ],
   "source": [
    "# Problem 1\n",
    "\n",
    "def makeDataFrame(data):\n",
    "    df = pd.DataFrame(data)\n",
    "    return df\n",
    "\n",
    "makeDataFrame({'A':[1,0,0,1], 'B':[0,1,1,0], 'C':[0,1,1,0], 'D':[1,0,0,1]})"
   ]
  },
  {
   "cell_type": "code",
   "execution_count": 242,
   "metadata": {},
   "outputs": [
    {
     "data": {
      "text/html": [
       "<div>\n",
       "<style scoped>\n",
       "    .dataframe tbody tr th:only-of-type {\n",
       "        vertical-align: middle;\n",
       "    }\n",
       "\n",
       "    .dataframe tbody tr th {\n",
       "        vertical-align: top;\n",
       "    }\n",
       "\n",
       "    .dataframe thead th {\n",
       "        text-align: right;\n",
       "    }\n",
       "</style>\n",
       "<table border=\"1\" class=\"dataframe\">\n",
       "  <thead>\n",
       "    <tr style=\"text-align: right;\">\n",
       "      <th></th>\n",
       "      <th>Unnamed: 0</th>\n",
       "      <th>address</th>\n",
       "      <th>bookmarks</th>\n",
       "      <th>dislikes</th>\n",
       "      <th>food_type</th>\n",
       "      <th>likes</th>\n",
       "      <th>name</th>\n",
       "      <th>number_of_reviews</th>\n",
       "      <th>price_range</th>\n",
       "    </tr>\n",
       "  </thead>\n",
       "  <tbody>\n",
       "    <tr>\n",
       "      <th>0</th>\n",
       "      <td>0</td>\n",
       "      <td>Shop J-K., 200 Hollywood Road,</td>\n",
       "      <td>5838</td>\n",
       "      <td>6</td>\n",
       "      <td>Hong Kong Style</td>\n",
       "      <td>78</td>\n",
       "      <td>For Kee Restaurant 科記咖啡餐室</td>\n",
       "      <td>(133 Reviews)</td>\n",
       "      <td>Below $50</td>\n",
       "    </tr>\n",
       "    <tr>\n",
       "      <th>1</th>\n",
       "      <td>1</td>\n",
       "      <td>G/F, 108 Hollywood Road,</td>\n",
       "      <td>3492</td>\n",
       "      <td>2</td>\n",
       "      <td>International</td>\n",
       "      <td>20</td>\n",
       "      <td>Blue · Butcher &amp; Meat Specialist</td>\n",
       "      <td>(30 Reviews)</td>\n",
       "      <td>$201-400</td>\n",
       "    </tr>\n",
       "    <tr>\n",
       "      <th>2</th>\n",
       "      <td>2</td>\n",
       "      <td>G/F, 206 Hollywood Road,</td>\n",
       "      <td>5517</td>\n",
       "      <td>5</td>\n",
       "      <td>Thai</td>\n",
       "      <td>31</td>\n",
       "      <td>Chachawan</td>\n",
       "      <td>(43 Reviews)</td>\n",
       "      <td>$201-400</td>\n",
       "    </tr>\n",
       "    <tr>\n",
       "      <th>3</th>\n",
       "      <td>3</td>\n",
       "      <td>Shop 3018, 3/F, Shun Tak Centre, 168-200 Conna...</td>\n",
       "      <td>1173</td>\n",
       "      <td>1</td>\n",
       "      <td>Hong Kong Style</td>\n",
       "      <td>23</td>\n",
       "      <td>Capital Café 華星冰室</td>\n",
       "      <td>(39 Reviews)</td>\n",
       "      <td>Below $50</td>\n",
       "    </tr>\n",
       "    <tr>\n",
       "      <th>4</th>\n",
       "      <td>4</td>\n",
       "      <td>G/F, 38 Queens Road West,</td>\n",
       "      <td>1064</td>\n",
       "      <td>1</td>\n",
       "      <td>Indian</td>\n",
       "      <td>50</td>\n",
       "      <td>Namaste Kitchen 滋味廚房</td>\n",
       "      <td>(57 Reviews)</td>\n",
       "      <td>$51-100</td>\n",
       "    </tr>\n",
       "    <tr>\n",
       "      <th>5</th>\n",
       "      <td>5</td>\n",
       "      <td>Shop 1, G/F, King Ho Building, 41-49 Aberdeen ...</td>\n",
       "      <td>3300</td>\n",
       "      <td>0</td>\n",
       "      <td>Vietnamese</td>\n",
       "      <td>21</td>\n",
       "      <td>Bun Cha Vietnamese</td>\n",
       "      <td>(33 Reviews)</td>\n",
       "      <td>$101-200</td>\n",
       "    </tr>\n",
       "    <tr>\n",
       "      <th>6</th>\n",
       "      <td>6</td>\n",
       "      <td>G/F, 12 Tung Street,</td>\n",
       "      <td>5101</td>\n",
       "      <td>3</td>\n",
       "      <td>Western</td>\n",
       "      <td>14</td>\n",
       "      <td>Halfway Coffee 半路咖啡</td>\n",
       "      <td>(25 Reviews)</td>\n",
       "      <td>Below $50</td>\n",
       "    </tr>\n",
       "    <tr>\n",
       "      <th>7</th>\n",
       "      <td>7</td>\n",
       "      <td>G/F, Sea View Commercial Building, 21-24 Conna...</td>\n",
       "      <td>591</td>\n",
       "      <td>3</td>\n",
       "      <td>Guangdong</td>\n",
       "      <td>30</td>\n",
       "      <td>Fung Shing Restaurant 鳳城酒家</td>\n",
       "      <td>(37 Reviews)</td>\n",
       "      <td>$101-200</td>\n",
       "    </tr>\n",
       "    <tr>\n",
       "      <th>8</th>\n",
       "      <td>8</td>\n",
       "      <td>Shop 1B, G/F, Cheungs Building, 1 Wing Lok Str...</td>\n",
       "      <td>1224</td>\n",
       "      <td>0</td>\n",
       "      <td>Western</td>\n",
       "      <td>28</td>\n",
       "      <td>Veggi Monster</td>\n",
       "      <td>(32 Reviews)</td>\n",
       "      <td>$51-100</td>\n",
       "    </tr>\n",
       "    <tr>\n",
       "      <th>9</th>\n",
       "      <td>9</td>\n",
       "      <td>G/F, 8 Hillier Street,</td>\n",
       "      <td>1452</td>\n",
       "      <td>0</td>\n",
       "      <td>Japanese</td>\n",
       "      <td>28</td>\n",
       "      <td>Pokéworld</td>\n",
       "      <td>(37 Reviews)</td>\n",
       "      <td>$51-100</td>\n",
       "    </tr>\n",
       "  </tbody>\n",
       "</table>\n",
       "</div>"
      ],
      "text/plain": [
       "   Unnamed: 0                                            address  bookmarks  \\\n",
       "0           0                     Shop J-K., 200 Hollywood Road,       5838   \n",
       "1           1                           G/F, 108 Hollywood Road,       3492   \n",
       "2           2                           G/F, 206 Hollywood Road,       5517   \n",
       "3           3  Shop 3018, 3/F, Shun Tak Centre, 168-200 Conna...       1173   \n",
       "4           4                          G/F, 38 Queens Road West,       1064   \n",
       "5           5  Shop 1, G/F, King Ho Building, 41-49 Aberdeen ...       3300   \n",
       "6           6                               G/F, 12 Tung Street,       5101   \n",
       "7           7  G/F, Sea View Commercial Building, 21-24 Conna...        591   \n",
       "8           8  Shop 1B, G/F, Cheungs Building, 1 Wing Lok Str...       1224   \n",
       "9           9                             G/F, 8 Hillier Street,       1452   \n",
       "\n",
       "   dislikes        food_type  likes                              name  \\\n",
       "0         6  Hong Kong Style     78         For Kee Restaurant 科記咖啡餐室   \n",
       "1         2    International     20  Blue · Butcher & Meat Specialist   \n",
       "2         5             Thai     31                         Chachawan   \n",
       "3         1  Hong Kong Style     23                 Capital Café 華星冰室   \n",
       "4         1           Indian     50              Namaste Kitchen 滋味廚房   \n",
       "5         0       Vietnamese     21                Bun Cha Vietnamese   \n",
       "6         3          Western     14               Halfway Coffee 半路咖啡   \n",
       "7         3        Guangdong     30        Fung Shing Restaurant 鳳城酒家   \n",
       "8         0          Western     28                     Veggi Monster   \n",
       "9         0         Japanese     28                         Pokéworld   \n",
       "\n",
       "  number_of_reviews price_range  \n",
       "0     (133 Reviews)   Below $50  \n",
       "1      (30 Reviews)    $201-400  \n",
       "2      (43 Reviews)    $201-400  \n",
       "3      (39 Reviews)   Below $50  \n",
       "4      (57 Reviews)     $51-100  \n",
       "5      (33 Reviews)    $101-200  \n",
       "6      (25 Reviews)   Below $50  \n",
       "7      (37 Reviews)    $101-200  \n",
       "8      (32 Reviews)     $51-100  \n",
       "9      (37 Reviews)     $51-100  "
      ]
     },
     "execution_count": 242,
     "metadata": {},
     "output_type": "execute_result"
    }
   ],
   "source": [
    "# Problem 2a\n",
    "\n",
    "def load():\n",
    "\treturn pd.read_csv(f\"{os.getcwd()}\\\\data\\\\openrice.csv\")\n",
    "\n",
    "df = load()\n",
    "df"
   ]
  },
  {
   "cell_type": "code",
   "execution_count": 243,
   "metadata": {},
   "outputs": [
    {
     "name": "stdout",
     "output_type": "stream",
     "text": [
      "0             Cheap\n",
      "1    Very Expensive\n",
      "2    Very Expensive\n",
      "3             Cheap\n",
      "4         Not Cheap\n",
      "5         Expensive\n",
      "6             Cheap\n",
      "7         Expensive\n",
      "8         Not Cheap\n",
      "9         Not Cheap\n",
      "Name: price_category, dtype: object\n"
     ]
    }
   ],
   "source": [
    "# Problem 2b\n",
    "\n",
    "def makeCategory():\n",
    "\tdf[\"price_category\"] = df[\"price_range\"]\n",
    "\tdf.price_category.replace([\"Below $50\",\"$51-100\",\"$101-200\",\"$201-400\"], [\"Cheap\",\"Not Cheap\",\"Expensive\",\"Very Expensive\"], inplace = True)\n",
    "\treturn df[\"price_category\"]\n",
    "\n",
    "print(makeCategory())"
   ]
  },
  {
   "cell_type": "code",
   "execution_count": 244,
   "metadata": {},
   "outputs": [
    {
     "name": "stdout",
     "output_type": "stream",
     "text": [
      "price_range\n",
      "$101-200      3\n",
      "$201-400      7\n",
      "$51-100       1\n",
      "Below $50    10\n",
      "Name: dislikes, dtype: int64\n"
     ]
    },
    {
     "name": "stderr",
     "output_type": "stream",
     "text": [
      "C:\\Users\\erasm\\AppData\\Local\\Temp\\ipykernel_3684\\2905122336.py:4: FutureWarning: The default value of numeric_only in DataFrameGroupBy.sum is deprecated. In a future version, numeric_only will default to False. Either specify numeric_only or select only columns which should be valid for the function.\n",
      "  dfg = df.groupby(df.price_range).sum()\n"
     ]
    }
   ],
   "source": [
    "# Problem 2c\n",
    "\n",
    "def totalDislike():\n",
    "    dfg = df.groupby(df.price_range).sum()\n",
    "    return dfg[\"dislikes\"]\n",
    "\n",
    "print(totalDislike())"
   ]
  },
  {
   "cell_type": "code",
   "execution_count": 245,
   "metadata": {},
   "outputs": [
    {
     "name": "stdout",
     "output_type": "stream",
     "text": [
      "7011\n"
     ]
    },
    {
     "name": "stderr",
     "output_type": "stream",
     "text": [
      "C:\\Users\\erasm\\AppData\\Local\\Temp\\ipykernel_3684\\4086380167.py:4: FutureWarning: The default value of numeric_only in DataFrameGroupBy.sum is deprecated. In a future version, numeric_only will default to False. Either specify numeric_only or select only columns which should be valid for the function.\n",
      "  dfg = df.groupby(df.food_type).sum()\n"
     ]
    }
   ],
   "source": [
    "# Problem 2d\n",
    "\n",
    "def totalBookmarks():\n",
    "\tdfg = df.groupby(df.food_type).sum()\n",
    "\treturn dfg.bookmarks[\"Hong Kong Style\"]\n",
    "\n",
    "print(totalBookmarks())"
   ]
  },
  {
   "cell_type": "code",
   "execution_count": 246,
   "metadata": {},
   "outputs": [
    {
     "name": "stdout",
     "output_type": "stream",
     "text": [
      "0    133\n",
      "1     30\n",
      "2     43\n",
      "3     39\n",
      "4     57\n",
      "5     33\n",
      "6     25\n",
      "7     37\n",
      "8     32\n",
      "9     37\n",
      "Name: number_of_reviews, dtype: object\n"
     ]
    }
   ],
   "source": [
    "# Problem 2e\n",
    "\n",
    "def extractReview():\n",
    "    l = list(df[\"number_of_reviews\"])\n",
    "    nl = []\n",
    "    for i in range(len(l)) :\n",
    "        nl.append(l[i].replace(\"(\",\"\").replace(\" Reviews)\",\"\"))\n",
    "    return pd.Series(nl,name=\"number_of_reviews\")\n",
    "\n",
    "print(extractReview())"
   ]
  }
 ],
 "metadata": {
  "kernelspec": {
   "display_name": "Python 3.10.6 64-bit",
   "language": "python",
   "name": "python3"
  },
  "language_info": {
   "codemirror_mode": {
    "name": "ipython",
    "version": 3
   },
   "file_extension": ".py",
   "mimetype": "text/x-python",
   "name": "python",
   "nbconvert_exporter": "python",
   "pygments_lexer": "ipython3",
   "version": "3.10.6"
  },
  "orig_nbformat": 4,
  "vscode": {
   "interpreter": {
    "hash": "d3dc24cc7e02586248f8d00edbc6455c95af5b22abe18b79a1c967fbdeaf1c4e"
   }
  }
 },
 "nbformat": 4,
 "nbformat_minor": 2
}
