{
 "cells": [
  {
   "cell_type": "markdown",
   "id": "ca2dfd97",
   "metadata": {},
   "source": [
    "# Write a program to reverse any string in Python"
   ]
  },
  {
   "cell_type": "code",
   "execution_count": 2,
   "id": "d1dc8086",
   "metadata": {},
   "outputs": [
    {
     "name": "stdout",
     "output_type": "stream",
     "text": [
      "Your enter string : example string 1234\n",
      "The reversed string : 4321 gnirts elpmaxe\n"
     ]
    }
   ],
   "source": [
    "# write your code here...\n",
    "s = str(input(\"Enter a string\"))\n",
    "print(\"Your enter string : \"+s)\n",
    "print(\"The reversed string : \"+s[::-1])"
   ]
  },
  {
   "cell_type": "markdown",
   "id": "95a9c80b",
   "metadata": {},
   "source": [
    "#### Input : Enter a stringexample string 1234 \n",
    "#### Output : The reversed string is :   4321 gnirts elpmaxe"
   ]
  },
  {
   "cell_type": "markdown",
   "id": "95a53039",
   "metadata": {},
   "source": [
    "# Write a program to remove any given character from a string"
   ]
  },
  {
   "cell_type": "code",
   "execution_count": 1,
   "id": "4c373841",
   "metadata": {},
   "outputs": [
    {
     "name": "stdout",
     "output_type": "stream",
     "text": [
      "Your enter string : examplez123\n",
      "The character to be removed : z\n",
      "The result after removed character : example123\n"
     ]
    }
   ],
   "source": [
    "# write your code here...\n",
    "s = str(input(\"Enter any string\"))\n",
    "print(\"Your enter string : \"+s)\n",
    "r = str(input(\"Enter the character to be removed\"))\n",
    "print(\"The character to be removed : \"+r)\n",
    "ns = \"\"\n",
    "\n",
    "for i in s :\n",
    "    if i == r :\n",
    "        ns = s.replace(r,\"\")\n",
    "        continue\n",
    "if ns == \"\" :\n",
    "    print('''There is no \"'''+r+'''\" can be removed''')\n",
    "else :\n",
    "    print(\"The result after removed character : \"+ns)"
   ]
  },
  {
   "cell_type": "markdown",
   "id": "54ab2943",
   "metadata": {},
   "source": [
    "#### User Input1: Enter any string : examplez123\n",
    "#### User Input2: Enter the character to be removed : z\n",
    "#### Output: example123"
   ]
  },
  {
   "cell_type": "markdown",
   "id": "c1539b65",
   "metadata": {},
   "source": [
    "# Write a program to check a string is palindrome or not"
   ]
  },
  {
   "cell_type": "code",
   "execution_count": 3,
   "id": "21d2952a",
   "metadata": {},
   "outputs": [
    {
     "name": "stdout",
     "output_type": "stream",
     "text": [
      "Your enter string : madam\n",
      "Is palindrome ? Yes\n"
     ]
    }
   ],
   "source": [
    "# write your code here...\n",
    "def CfP(c) :\n",
    "    return c == c[::-1]\n",
    "\n",
    "s = str(input(\"Enter any string\"))\n",
    "print(\"Your enter string : \"+s)\n",
    "\n",
    "if CfP(s) :\n",
    "    print(\"Is palindrome ? Yes\")\n",
    "else :\n",
    "    print(\"Is palindrome ? No\")"
   ]
  },
  {
   "cell_type": "markdown",
   "id": "c4492be5",
   "metadata": {},
   "source": [
    "#### Input: Enter any string : madam\n",
    "#### Output: Yes"
   ]
  },
  {
   "cell_type": "markdown",
   "id": "ccb2450c",
   "metadata": {},
   "source": [
    "# Write a program to check if a given character is digit or not"
   ]
  },
  {
   "cell_type": "code",
   "execution_count": 5,
   "id": "594a5f2f",
   "metadata": {},
   "outputs": [
    {
     "name": "stdout",
     "output_type": "stream",
     "text": [
      "Your enter character : 76\n",
      "The given character 76 is a digit\n"
     ]
    }
   ],
   "source": [
    "# Write your code here...\n",
    "c = input(\"Enter your own character\")\n",
    "print(\"Your enter character : \"+c)\n",
    "\n",
    "if c.isdigit() :\n",
    "    print(\"The given character \"+c+\" is a digit\")\n",
    "else :\n",
    "    print('''The given character \"'''+c+'''\" is NOT a digit''')"
   ]
  },
  {
   "cell_type": "markdown",
   "id": "7262cbe2",
   "metadata": {},
   "source": [
    "#### Input: Please Enter Your Own Character : 76\n",
    "#### Output: The Given Character  76 is a Digit"
   ]
  },
  {
   "cell_type": "markdown",
   "id": "85f3da8e",
   "metadata": {},
   "source": [
    "# Write a program to check whether the given integer is a multiple of 7"
   ]
  },
  {
   "cell_type": "code",
   "execution_count": 6,
   "id": "eadd7765",
   "metadata": {},
   "outputs": [
    {
     "name": "stdout",
     "output_type": "stream",
     "text": [
      "Your enter integer : 21\n",
      "21 is a multiple of 7\n"
     ]
    }
   ],
   "source": [
    "# write your code here...\n",
    "num = input(\"Enter an integer\")\n",
    "print(\"Your enter integer : \"+num)\n",
    "\n",
    "if int(num)%7 == 0 :\n",
    "    print(num+\" is a multiple of 7\")\n",
    "else :\n",
    "    print(num+\" is NOT a multiple of 7\")\n"
   ]
  },
  {
   "cell_type": "markdown",
   "id": "2182d622",
   "metadata": {},
   "source": [
    "#### Input:Enter an integer:21\n",
    "#### Output: 21 is a multiple of 7"
   ]
  },
  {
   "cell_type": "markdown",
   "id": "fe3c35a7",
   "metadata": {},
   "source": [
    "# Write a program to check whether the given integer is a multiple of both 7 and 11"
   ]
  },
  {
   "cell_type": "code",
   "execution_count": 7,
   "id": "c813a5a4",
   "metadata": {},
   "outputs": [
    {
     "name": "stdout",
     "output_type": "stream",
     "text": [
      "Your enter integer : 77\n",
      "77 is a multiple of both 7 and 11\n"
     ]
    }
   ],
   "source": [
    "# write your code here...\n",
    "num = input(\"Enter an integer\")\n",
    "print(\"Your enter integer : \"+num)\n",
    "\n",
    "if int(num)%7 == 0 and int(num)%11 == 0 :\n",
    "    print(num+\" is a multiple of both 7 and 11\")\n",
    "else :\n",
    "    print(num+\" is NOT a multiple of both 7 and 11\")"
   ]
  },
  {
   "cell_type": "markdown",
   "id": "85342446",
   "metadata": {},
   "source": [
    "#### Input:Enter an integer: 77\n",
    "#### Output: 77 is a multiple of both 7 and 11"
   ]
  },
  {
   "cell_type": "markdown",
   "id": "6de68365",
   "metadata": {},
   "source": [
    "# Write a program to reverse an integer in Python"
   ]
  },
  {
   "cell_type": "code",
   "execution_count": 8,
   "id": "00a3b85d",
   "metadata": {},
   "outputs": [
    {
     "name": "stdout",
     "output_type": "stream",
     "text": [
      "Your enter integer : 432424593\n",
      "Reversed Integer : 395424234\n"
     ]
    }
   ],
   "source": [
    "# write your code here...\n",
    "i = str(input(\"Enter an integer\"))\n",
    "print(\"Your enter integer : \"+i)\n",
    "print(\"Reversed Integer : \"+i[::-1])"
   ]
  },
  {
   "cell_type": "markdown",
   "id": "57b68c7a",
   "metadata": {},
   "source": [
    "#### Input:Enter an integer: 432424593\n",
    "#### Output: Reversed Integer:  395424234"
   ]
  }
 ],
 "metadata": {
  "kernelspec": {
   "display_name": "Python 3.10.6 64-bit",
   "language": "python",
   "name": "python3"
  },
  "language_info": {
   "codemirror_mode": {
    "name": "ipython",
    "version": 3
   },
   "file_extension": ".py",
   "mimetype": "text/x-python",
   "name": "python",
   "nbconvert_exporter": "python",
   "pygments_lexer": "ipython3",
   "version": "3.10.6"
  },
  "vscode": {
   "interpreter": {
    "hash": "d3dc24cc7e02586248f8d00edbc6455c95af5b22abe18b79a1c967fbdeaf1c4e"
   }
  }
 },
 "nbformat": 4,
 "nbformat_minor": 5
}
