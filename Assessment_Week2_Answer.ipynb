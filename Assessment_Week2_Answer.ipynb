{
 "cells": [
  {
   "cell_type": "code",
   "execution_count": 226,
   "metadata": {},
   "outputs": [],
   "source": [
    "import os\n",
    "\n",
    "def edit(fp) :\n",
    "    file = open(f\"{os.getcwd()}{str(fp)}\",\"r\")\n",
    "    content = file.read()\n",
    "    file.close()\n",
    "    if content.isdigit() == True :\n",
    "        print(f\"Your input filepath : {str(fp)}\")\n",
    "        print(f\"The first 10 characters : {int(str(content[0:10]))}\")\n",
    "    else :\n",
    "        ec = content.lower().replace(\"\\n\",\" \")\n",
    "        nc = ec.split()\n",
    "        d = {}\n",
    "        for i in range(len(nc)) :\n",
    "            if nc[i] not in d :\n",
    "                d[nc[i]] = 1\n",
    "            else :\n",
    "                d[nc[i]] += 1\n",
    "        nd = dict(sorted(d.items(), key = lambda x:x[1], reverse=True))\n",
    "        kl = list(nd.keys())\n",
    "        print(f\"Your input filepath : {str(fp)}\")\n",
    "        print(f\"The top 5 most frequent words in the file : {kl[0:5]}\")\n",
    "        print(f\"\\n(The modified string that's all lowercase)\\n{ec}\")"
   ]
  },
  {
   "cell_type": "code",
   "execution_count": 227,
   "metadata": {},
   "outputs": [
    {
     "name": "stdout",
     "output_type": "stream",
     "text": [
      "Your input filepath : \\\\data\\\\number.txt\n",
      "The first 10 characters : 1857617284\n"
     ]
    }
   ],
   "source": [
    "#\\\\data\\\\number.txt\n",
    "\n",
    "edit(input(\"Please enter a filepath\"))"
   ]
  },
  {
   "cell_type": "code",
   "execution_count": 228,
   "metadata": {},
   "outputs": [
    {
     "name": "stdout",
     "output_type": "stream",
     "text": [
      "Your input filepath : \\\\data\\\\story.txt\n",
      "The top 5 most frequent words in the file : ['the', 'of', 'and', 'with', 'a']\n",
      "\n",
      "(The modified string that's all lowercase)\n",
      "the man and his wife, talking of the latest armed robbery in the suburb, were distracted by the sight of the little boy's pet cat effortlessly arriving over the seven-foot wall, descending first with a rapid bracing of extended forepaws down on the sheer vertical surface, and then a graceful launch, landing with swishing tail within the property. \n"
     ]
    }
   ],
   "source": [
    "#\\\\data\\\\story.txt\n",
    "\n",
    "edit(input(\"Please enter a filepath\"))"
   ]
  },
  {
   "cell_type": "code",
   "execution_count": 229,
   "metadata": {},
   "outputs": [
    {
     "name": "stdout",
     "output_type": "stream",
     "text": [
      "Your input filepath : \\\\data\\\\story2.txt\n",
      "The top 5 most frequent words in the file : ['is', 'better', 'than', 'to', 'the']\n",
      "\n",
      "(The modified string that's all lowercase)\n",
      "beautiful is better than ugly.explicit is better than implicit.simple is better than complex.complex is better than complicated.flat is better than nested.sparse is better than dense.readability counts.special cases aren't special enough to break the rules.although practicality beats purity.errors should never pass silently.unless explicitly silenced.in the face of ambiguity, refuse the temptation to guess.there should be one-- and preferably only one --obvious way to do it.although that way may not be obvious at first unless you're dutch.now is better than never.although never is often better than *right* now.if the implementation is hard to explain, it's a bad idea.if the implementation is easy to explain, it may be a good idea.namespaces are one honking great idea -- let's do more of those! \n"
     ]
    }
   ],
   "source": [
    "#\\\\data\\\\story2.txt\n",
    "\n",
    "edit(input(\"Please enter a filepath\"))"
   ]
  }
 ],
 "metadata": {
  "kernelspec": {
   "display_name": "Python 3.10.6 64-bit",
   "language": "python",
   "name": "python3"
  },
  "language_info": {
   "codemirror_mode": {
    "name": "ipython",
    "version": 3
   },
   "file_extension": ".py",
   "mimetype": "text/x-python",
   "name": "python",
   "nbconvert_exporter": "python",
   "pygments_lexer": "ipython3",
   "version": "3.10.6"
  },
  "orig_nbformat": 4,
  "vscode": {
   "interpreter": {
    "hash": "d3dc24cc7e02586248f8d00edbc6455c95af5b22abe18b79a1c967fbdeaf1c4e"
   }
  }
 },
 "nbformat": 4,
 "nbformat_minor": 2
}
