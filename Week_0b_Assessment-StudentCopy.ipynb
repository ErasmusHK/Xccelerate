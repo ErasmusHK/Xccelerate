{
 "cells": [
  {
   "cell_type": "markdown",
   "id": "fc1a0cb4",
   "metadata": {},
   "source": [
    "# Take any list and convert it into a tuple"
   ]
  },
  {
   "cell_type": "code",
   "execution_count": 14,
   "id": "0a8fbcd3",
   "metadata": {},
   "outputs": [
    {
     "name": "stdout",
     "output_type": "stream",
     "text": [
      "Your input data : ['sun', 'mon', 'tue', 'wed', 'thu', 'fri', 'sat']\n",
      "What you want : ('sun', 'mon', 'tue', 'wed', 'thu', 'fri', 'sat')\n"
     ]
    }
   ],
   "source": [
    "# write your code here...\n",
    "d=[]\n",
    "\n",
    "for i in range(7) :\n",
    "    d.append(input())\n",
    "\n",
    "print(\"Your input data : \"+str(d))\n",
    "print(\"What you want : \"+str(tuple(d)))"
   ]
  },
  {
   "cell_type": "markdown",
   "id": "d5ea4c4c",
   "metadata": {},
   "source": [
    "####  Input:  ['sun','mon','tue','wed','thu','fri','sat']\n",
    "####  output: ('sun', 'mon', 'tue', 'wed', 'thu', 'fri', 'sat')"
   ]
  },
  {
   "cell_type": "markdown",
   "id": "7dece088",
   "metadata": {},
   "source": [
    "# Take any list and convert it into a set"
   ]
  },
  {
   "cell_type": "code",
   "execution_count": 17,
   "id": "b3385beb",
   "metadata": {},
   "outputs": [
    {
     "name": "stdout",
     "output_type": "stream",
     "text": [
      "Your input data : ['sun', 'mon', 'tue', 'wed', 'thu', 'fri', 'sat', 'sun', 'tue']\n",
      "What you want : {'wed', 'sun', 'thu', 'mon', 'sat', 'tue', 'fri'}\n"
     ]
    }
   ],
   "source": [
    "# write your code here...\n",
    "d=[]\n",
    "\n",
    "for i in range(9) :\n",
    "    d.append(input())\n",
    "\n",
    "print(\"Your input data : \"+str(d))\n",
    "print(\"What you want : \"+str(set(d)))"
   ]
  },
  {
   "cell_type": "markdown",
   "id": "94884f1c",
   "metadata": {},
   "source": [
    "#### Input: ['sun','mon','tue','wed','thu','fri','sat','sun','tue']\n",
    "#### Output: {'mon', 'thu', 'sun', 'fri', 'wed', 'sat', 'tue'}"
   ]
  },
  {
   "cell_type": "markdown",
   "id": "39309228",
   "metadata": {},
   "source": [
    "# count the occurrences of an element 'mon' in the list"
   ]
  },
  {
   "cell_type": "code",
   "execution_count": 19,
   "id": "92e9adb5",
   "metadata": {},
   "outputs": [
    {
     "name": "stdout",
     "output_type": "stream",
     "text": [
      "Your input data : ['sun', 'mon', 'tue', 'wed', 'thu', 'fri', 'sun', 'mon', 'mon']\n",
      "\"mon\" in the list : 3 times\n"
     ]
    }
   ],
   "source": [
    "# write your code here...\n",
    "d=[]\n",
    "\n",
    "for i in range(9) :\n",
    "    d.append(input())\n",
    "\n",
    "print(\"Your input data : \"+str(d))\n",
    "print('''\"mon\" in the list : '''+str(d.count(\"mon\"))+\" times\")"
   ]
  },
  {
   "cell_type": "markdown",
   "id": "24227043",
   "metadata": {},
   "source": [
    "#### Input: weekdays = ['sun','mon','tue','wed','thu','fri','sun','mon','mon']\n",
    "#### Output: 3"
   ]
  }
 ],
 "metadata": {
  "kernelspec": {
   "display_name": "Python 3.10.6 64-bit",
   "language": "python",
   "name": "python3"
  },
  "language_info": {
   "codemirror_mode": {
    "name": "ipython",
    "version": 3
   },
   "file_extension": ".py",
   "mimetype": "text/x-python",
   "name": "python",
   "nbconvert_exporter": "python",
   "pygments_lexer": "ipython3",
   "version": "3.10.6"
  },
  "vscode": {
   "interpreter": {
    "hash": "d3dc24cc7e02586248f8d00edbc6455c95af5b22abe18b79a1c967fbdeaf1c4e"
   }
  }
 },
 "nbformat": 4,
 "nbformat_minor": 5
}
