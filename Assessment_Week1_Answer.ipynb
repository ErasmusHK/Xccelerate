{
 "cells": [
  {
   "cell_type": "code",
   "execution_count": 142,
   "metadata": {},
   "outputs": [],
   "source": [
    "#Display 1\n",
    "\n",
    "def pa1(h=0,a=0,d=0,sa=0,sd=0,s=0) :\n",
    "    import math\n",
    "    p = [h,a,d,sa,sd,s]\n",
    "    if sum(p) > 500 :\n",
    "        print(\"No medicine is given : Sum of total points is more than 500\")\n",
    "    else :\n",
    "        if max(p) > 250 :\n",
    "            print(\"No medicine is given : one of the attributes has a need of more than 250\")\n",
    "        else :\n",
    "            print(f'''\"HP\", \"Attack\", \"Defense\", \"Special Attack\", \"Special Defense\" and \"Speed\" :\\n{h}, {a}, {d}, {sa}, {sd}, {s}''')\n",
    "            print(f\"Vitamin & injections for each attribute :\\n{list((tuple((math.ceil(h/10),(10 if h%10 != 0 else 0)-(h%10))),tuple((math.ceil(a/10),(10 if a%10 != 0 else 0)-(a%10))),tuple((math.ceil(d/10),(10 if d%10 != 0 else 0)-(d%10))),tuple((math.ceil(sa/10),(10 if sa%10 != 0 else 0)-(sa%10))),tuple((math.ceil(sd/10),(10 if sd%10 != 0 else 0)-(sd%10))),tuple((math.ceil(s/10),(10 if s%10 != 0 else 0)-(s%10)))))}\")\n"
   ]
  },
  {
   "cell_type": "code",
   "execution_count": 143,
   "metadata": {},
   "outputs": [
    {
     "name": "stdout",
     "output_type": "stream",
     "text": [
      "Example 1 :\n",
      "\"HP\", \"Attack\", \"Defense\", \"Special Attack\", \"Special Defense\" and \"Speed\" :\n",
      "250, 0, 250, 0, 0, 0\n",
      "Vitamin & injections for each attribute :\n",
      "[(25, 0), (0, 0), (25, 0), (0, 0), (0, 0), (0, 0)]\n",
      "\n",
      "Example 2 :\n",
      "\"HP\", \"Attack\", \"Defense\", \"Special Attack\", \"Special Defense\" and \"Speed\" :\n",
      "223, 12, 126, 0, 37, 12\n",
      "Vitamin & injections for each attribute :\n",
      "[(23, 7), (2, 8), (13, 4), (0, 0), (4, 3), (2, 8)]\n",
      "\n",
      "Example 3 :\n",
      "No medicine is given : Sum of total points is more than 500\n",
      "\n",
      "Example 4 :\n",
      "No medicine is given : one of the attributes has a need of more than 250\n"
     ]
    }
   ],
   "source": [
    "#Display 1 test 0\n",
    "print(\"Example 1 :\")\n",
    "pa1(250,0,250,0,0,0)\n",
    "print(\"\\nExample 2 :\")\n",
    "pa1(223,12,126,0,37,12)\n",
    "print(\"\\nExample 3 :\")\n",
    "pa1(500,1,2,3,4,5)\n",
    "print(\"\\nExample 4 :\")\n",
    "pa1(260,1,2,3,4,5)"
   ]
  },
  {
   "cell_type": "code",
   "execution_count": 144,
   "metadata": {},
   "outputs": [
    {
     "name": "stdout",
     "output_type": "stream",
     "text": [
      "\n",
      "Example 5 :\n",
      "\"HP\", \"Attack\", \"Defense\", \"Special Attack\", \"Special Defense\" and \"Speed\" :\n",
      "40, 35, 23, 68, 45, 29\n",
      "Vitamin & injections for each attribute :\n",
      "[(4, 0), (4, 5), (3, 7), (7, 2), (5, 5), (3, 1)]\n"
     ]
    }
   ],
   "source": [
    "#Display 1 test 1\n",
    "print(\"\\nExample 5 :\")\n",
    "pa1(40,35,23,68,45,29)"
   ]
  },
  {
   "cell_type": "code",
   "execution_count": 148,
   "metadata": {},
   "outputs": [
    {
     "name": "stdout",
     "output_type": "stream",
     "text": [
      "\n",
      "Example 6 :\n",
      "No medicine is given : Sum of total points is more than 500\n",
      "\n",
      "Example 7 :\n",
      "No medicine is given : one of the attributes has a need of more than 250\n",
      "\n",
      "Example 8 :\n",
      "No medicine is given : one of the attributes has a need of more than 250\n",
      "\n",
      "Example 9 :\n",
      "No medicine is given : Sum of total points is more than 500\n"
     ]
    }
   ],
   "source": [
    "#Display 1 test 2\n",
    "print(\"\\nExample 6 :\")\n",
    "pa1(500,1,0,0,0)\n",
    "print(\"\\nExample 7 :\")\n",
    "pa1(499,1,0,0,0)\n",
    "print(\"\\nExample 8 :\")\n",
    "pa1(251,10,20,30,40)\n",
    "print(\"\\nExample 9 :\")\n",
    "pa1(100,200,100,100,1,0)"
   ]
  },
  {
   "cell_type": "code",
   "execution_count": 139,
   "metadata": {},
   "outputs": [],
   "source": [
    "#Display 2\n",
    "\n",
    "def pa2(h=0,a=0,d=0,sa=0,sd=0,s=0) :\n",
    "    import math\n",
    "    p = [h,a,d,sa,sd,s]\n",
    "    if sum(p) > 500 :\n",
    "        print(\"No medicine is given : Sum of total points is more than 500\")\n",
    "    else :\n",
    "        if max(p) > 250 :\n",
    "            print(\"No medicine is given : one of the attributes has a need of more than 250\")\n",
    "        else :\n",
    "            vl = []\n",
    "            il = []\n",
    "            pl = []\n",
    "            for n in range(len(p)) :\n",
    "                vl.append(math.ceil(p[n]/10))\n",
    "                il.append((10 if p[n]%10 != 0 else 0)-(p[n]%10))\n",
    "                pl.append(tuple((vl[n],il[n])))\n",
    "            print(f'''\"HP\", \"Attack\", \"Defense\", \"Special Attack\", \"Special Defense\" and \"Speed\" :\\n{h}, {a}, {d}, {sa}, {sd}, {s}''')\n",
    "            print(f\"Vitamin & injections for each attribute :\\n{pl}\")\n"
   ]
  },
  {
   "cell_type": "code",
   "execution_count": 140,
   "metadata": {},
   "outputs": [
    {
     "name": "stdout",
     "output_type": "stream",
     "text": [
      "Example 1 :\n",
      "\"HP\", \"Attack\", \"Defense\", \"Special Attack\", \"Special Defense\" and \"Speed\" :\n",
      "250, 0, 250, 0, 0, 0\n",
      "Vitamin & injections for each attribute :\n",
      "[(25, 0), (0, 0), (25, 0), (0, 0), (0, 0), (0, 0)]\n",
      "\n",
      "Example 2 :\n",
      "\"HP\", \"Attack\", \"Defense\", \"Special Attack\", \"Special Defense\" and \"Speed\" :\n",
      "223, 12, 126, 0, 37, 12\n",
      "Vitamin & injections for each attribute :\n",
      "[(23, 7), (2, 8), (13, 4), (0, 0), (4, 3), (2, 8)]\n",
      "\n",
      "Example 3 :\n",
      "No medicine is given : Sum of total points is more than 500\n",
      "\n",
      "Example 4 :\n",
      "No medicine is given : Sum of total points is more than 500\n"
     ]
    }
   ],
   "source": [
    "#Display 2 test 0\n",
    "print(\"Example 1 :\")\n",
    "pa2(250,0,250,0,0,0)\n",
    "print(\"\\nExample 2 :\")\n",
    "pa2(223,12,126,0,37,12)\n",
    "print(\"\\nExample 3 :\")\n",
    "pa2(500,1,2,3,4,5)\n",
    "print(\"\\nExample 4 :\")\n",
    "pa2(260,1,260,3,4,5)"
   ]
  },
  {
   "cell_type": "code",
   "execution_count": 146,
   "metadata": {},
   "outputs": [
    {
     "name": "stdout",
     "output_type": "stream",
     "text": [
      "\n",
      "Example 5 :\n",
      "\"HP\", \"Attack\", \"Defense\", \"Special Attack\", \"Special Defense\" and \"Speed\" :\n",
      "40, 35, 23, 68, 45, 29\n",
      "Vitamin & injections for each attribute :\n",
      "[(4, 0), (4, 5), (3, 7), (7, 2), (5, 5), (3, 1)]\n"
     ]
    }
   ],
   "source": [
    "#Display 2 test 1\n",
    "print(\"\\nExample 5 :\")\n",
    "pa2(40,35,23,68,45,29)"
   ]
  },
  {
   "cell_type": "code",
   "execution_count": 149,
   "metadata": {},
   "outputs": [
    {
     "name": "stdout",
     "output_type": "stream",
     "text": [
      "\n",
      "Example 6 :\n",
      "No medicine is given : Sum of total points is more than 500\n",
      "\n",
      "Example 7 :\n",
      "No medicine is given : one of the attributes has a need of more than 250\n",
      "\n",
      "Example 8 :\n",
      "No medicine is given : one of the attributes has a need of more than 250\n",
      "\n",
      "Example 9 :\n",
      "No medicine is given : Sum of total points is more than 500\n"
     ]
    }
   ],
   "source": [
    "#Display 2 test 2\n",
    "print(\"\\nExample 6 :\")\n",
    "pa2(500,1,0,0,0)\n",
    "print(\"\\nExample 7 :\")\n",
    "pa2(499,1,0,0,0)\n",
    "print(\"\\nExample 8 :\")\n",
    "pa2(251,10,20,30,40)\n",
    "print(\"\\nExample 9 :\")\n",
    "pa2(100,200,100,100,1,0)"
   ]
  }
 ],
 "metadata": {
  "kernelspec": {
   "display_name": "Python 3.10.6 64-bit",
   "language": "python",
   "name": "python3"
  },
  "language_info": {
   "codemirror_mode": {
    "name": "ipython",
    "version": 3
   },
   "file_extension": ".py",
   "mimetype": "text/x-python",
   "name": "python",
   "nbconvert_exporter": "python",
   "pygments_lexer": "ipython3",
   "version": "3.10.6"
  },
  "orig_nbformat": 4,
  "vscode": {
   "interpreter": {
    "hash": "d3dc24cc7e02586248f8d00edbc6455c95af5b22abe18b79a1c967fbdeaf1c4e"
   }
  }
 },
 "nbformat": 4,
 "nbformat_minor": 2
}
