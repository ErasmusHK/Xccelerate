{
 "cells": [
  {
   "cell_type": "code",
   "execution_count": 1,
   "metadata": {},
   "outputs": [],
   "source": [
    "import pandas as pd\n",
    "from sklearn.model_selection import train_test_split\n",
    "from sklearn.preprocessing import MinMaxScaler\n",
    "from sklearn.linear_model import LogisticRegression\n",
    "from sklearn.neighbors import KNeighborsClassifier\n",
    "from sklearn.metrics import accuracy_score\n",
    "from sklearn.metrics import precision_score"
   ]
  },
  {
   "cell_type": "markdown",
   "metadata": {},
   "source": [
    "Problem 1 )"
   ]
  },
  {
   "cell_type": "code",
   "execution_count": 2,
   "metadata": {},
   "outputs": [
    {
     "name": "stdout",
     "output_type": "stream",
     "text": [
      "5\n",
      "1\n",
      "4\n",
      "1\n",
      "3\n"
     ]
    }
   ],
   "source": [
    "def longestpath(dict) :\n",
    "    dk = list(dict.keys())\n",
    "    dv = list(dict.values())\n",
    "    result = len(dv)\n",
    "    for i in range(len(dv)) :\n",
    "        if dv[i] in dk[:i] :\n",
    "            result = i\n",
    "        else :\n",
    "            continue\n",
    "    return result\n",
    "\n",
    "dict1 ={'a':'b', 'b':'c', 'c':'d', 'd':'e', 'e':'f', 'f':'a'}\n",
    "print(longestpath(dict1))\n",
    "\n",
    "dict2 ={'a':'b', 'b':'a'}\n",
    "print(longestpath(dict2))\n",
    "\n",
    "dict3 ={'Amy':'Bob', 'Bob':'Cat', 'Cat':'David', 'David':'Emily'}\n",
    "print(longestpath(dict3))\n",
    "\n",
    "dict4={ 'a':'b'}\n",
    "print(longestpath(dict4))\n",
    "\n",
    "dict6={'Amy':'Dog', 'Bob':'Cat', 'David':'Emily','Cat':'David'}\n",
    "print(longestpath(dict6))"
   ]
  },
  {
   "cell_type": "markdown",
   "metadata": {},
   "source": [
    "Problem 2 )"
   ]
  },
  {
   "cell_type": "code",
   "execution_count": 3,
   "metadata": {},
   "outputs": [
    {
     "name": "stdout",
     "output_type": "stream",
     "text": [
      "     age  sex  cp  trestbps  chol  fbs  restecg  thalach  exang  oldpeak  \\\n",
      "0     63    1   3       145   233    1        0      150      0      2.3   \n",
      "1     37    1   2       130   250    0        1      187      0      3.5   \n",
      "2     41    0   1       130   204    0        0      172      0      1.4   \n",
      "3     56    1   1       120   236    0        1      178      0      0.8   \n",
      "4     57    0   0       120   354    0        1      163      1      0.6   \n",
      "..   ...  ...  ..       ...   ...  ...      ...      ...    ...      ...   \n",
      "298   57    0   0       140   241    0        1      123      1      0.2   \n",
      "299   45    1   3       110   264    0        1      132      0      1.2   \n",
      "300   68    1   0       144   193    1        1      141      0      3.4   \n",
      "301   57    1   0       130   131    0        1      115      1      1.2   \n",
      "302   57    0   1       130   236    0        0      174      0      0.0   \n",
      "\n",
      "     slope  ca  thal  target  \n",
      "0        0   0     1       1  \n",
      "1        0   0     2       1  \n",
      "2        2   0     2       1  \n",
      "3        2   0     2       1  \n",
      "4        2   0     2       1  \n",
      "..     ...  ..   ...     ...  \n",
      "298      1   0     3       0  \n",
      "299      1   0     3       0  \n",
      "300      1   2     3       0  \n",
      "301      1   1     3       0  \n",
      "302      1   1     2       0  \n",
      "\n",
      "[303 rows x 14 columns]\n"
     ]
    }
   ],
   "source": [
    "# Question 1\n",
    "\n",
    "df = pd.read_csv(\".\\\\data\\\\heart.csv\")\n",
    "print(df)"
   ]
  },
  {
   "cell_type": "code",
   "execution_count": 4,
   "metadata": {},
   "outputs": [
    {
     "name": "stdout",
     "output_type": "stream",
     "text": [
      "(303, 14)\n"
     ]
    }
   ],
   "source": [
    "# Question 2\n",
    "print(df.shape)"
   ]
  },
  {
   "cell_type": "code",
   "execution_count": 5,
   "metadata": {},
   "outputs": [
    {
     "name": "stdout",
     "output_type": "stream",
     "text": [
      "target\n",
      "0    138\n",
      "1    165\n",
      "Name: target, dtype: int64\n"
     ]
    }
   ],
   "source": [
    "# Question 3\n",
    "print(df.groupby(\"target\")[\"target\"].count())"
   ]
  },
  {
   "cell_type": "code",
   "execution_count": 6,
   "metadata": {},
   "outputs": [
    {
     "name": "stdout",
     "output_type": "stream",
     "text": [
      "54.46\n"
     ]
    }
   ],
   "source": [
    "# Question 4\n",
    "print(round(df.groupby(\"target\")[\"target\"].count()[1]/len(df)*100,2))"
   ]
  },
  {
   "cell_type": "code",
   "execution_count": 7,
   "metadata": {},
   "outputs": [
    {
     "name": "stdout",
     "output_type": "stream",
     "text": [
      "              age       sex        cp    trestbps        chol       fbs  \\\n",
      "target                                                                    \n",
      "0       56.601449  0.826087  0.478261  134.398551  251.086957  0.159420   \n",
      "1       52.496970  0.563636  1.375758  129.303030  242.230303  0.139394   \n",
      "\n",
      "         restecg     thalach     exang   oldpeak     slope        ca      thal  \n",
      "target                                                                          \n",
      "0       0.449275  139.101449  0.550725  1.585507  1.166667  1.166667  2.543478  \n",
      "1       0.593939  158.466667  0.139394  0.583030  1.593939  0.363636  2.121212  \n"
     ]
    }
   ],
   "source": [
    "# Question 5\n",
    "print(df.groupby(\"target\").mean())"
   ]
  },
  {
   "cell_type": "code",
   "execution_count": 8,
   "metadata": {},
   "outputs": [
    {
     "name": "stdout",
     "output_type": "stream",
     "text": [
      "     age  sex  cp  trestbps  chol  fbs  restecg  thalach  exang  oldpeak  ...  \\\n",
      "0     63    1   3       145   233    1        0      150      0      2.3  ...   \n",
      "1     37    1   2       130   250    0        1      187      0      3.5  ...   \n",
      "2     41    0   1       130   204    0        0      172      0      1.4  ...   \n",
      "3     56    1   1       120   236    0        1      178      0      0.8  ...   \n",
      "4     57    0   0       120   354    0        1      163      1      0.6  ...   \n",
      "..   ...  ...  ..       ...   ...  ...      ...      ...    ...      ...  ...   \n",
      "298   57    0   0       140   241    0        1      123      1      0.2  ...   \n",
      "299   45    1   3       110   264    0        1      132      0      1.2  ...   \n",
      "300   68    1   0       144   193    1        1      141      0      3.4  ...   \n",
      "301   57    1   0       130   131    0        1      115      1      1.2  ...   \n",
      "302   57    0   1       130   236    0        0      174      0      0.0  ...   \n",
      "\n",
      "     cp_1  cp_2  cp_3  thal_0  thal_1  thal_2  thal_3  slope_0  slope_1  \\\n",
      "0       0     0     1       0       1       0       0        1        0   \n",
      "1       0     1     0       0       0       1       0        1        0   \n",
      "2       1     0     0       0       0       1       0        0        0   \n",
      "3       1     0     0       0       0       1       0        0        0   \n",
      "4       0     0     0       0       0       1       0        0        0   \n",
      "..    ...   ...   ...     ...     ...     ...     ...      ...      ...   \n",
      "298     0     0     0       0       0       0       1        0        1   \n",
      "299     0     0     1       0       0       0       1        0        1   \n",
      "300     0     0     0       0       0       0       1        0        1   \n",
      "301     0     0     0       0       0       0       1        0        1   \n",
      "302     1     0     0       0       0       1       0        0        1   \n",
      "\n",
      "     slope_2  \n",
      "0          0  \n",
      "1          0  \n",
      "2          1  \n",
      "3          1  \n",
      "4          1  \n",
      "..       ...  \n",
      "298        0  \n",
      "299        0  \n",
      "300        0  \n",
      "301        0  \n",
      "302        0  \n",
      "\n",
      "[303 rows x 25 columns]\n"
     ]
    }
   ],
   "source": [
    "# Question 6\n",
    "l = [\"cp\", \"thal\", \"slope\"]\n",
    "for i in l :\n",
    "    df = pd.concat([df, pd.get_dummies(df[i], prefix=i)], axis=1)\n",
    "print(df)"
   ]
  },
  {
   "cell_type": "code",
   "execution_count": 9,
   "metadata": {},
   "outputs": [
    {
     "name": "stdout",
     "output_type": "stream",
     "text": [
      "     age  sex  trestbps  chol  fbs  restecg  thalach  exang  oldpeak  ca  ...  \\\n",
      "0     63    1       145   233    1        0      150      0      2.3   0  ...   \n",
      "1     37    1       130   250    0        1      187      0      3.5   0  ...   \n",
      "2     41    0       130   204    0        0      172      0      1.4   0  ...   \n",
      "3     56    1       120   236    0        1      178      0      0.8   0  ...   \n",
      "4     57    0       120   354    0        1      163      1      0.6   0  ...   \n",
      "..   ...  ...       ...   ...  ...      ...      ...    ...      ...  ..  ...   \n",
      "298   57    0       140   241    0        1      123      1      0.2   0  ...   \n",
      "299   45    1       110   264    0        1      132      0      1.2   0  ...   \n",
      "300   68    1       144   193    1        1      141      0      3.4   2  ...   \n",
      "301   57    1       130   131    0        1      115      1      1.2   1  ...   \n",
      "302   57    0       130   236    0        0      174      0      0.0   1  ...   \n",
      "\n",
      "     cp_1  cp_2  cp_3  thal_0  thal_1  thal_2  thal_3  slope_0  slope_1  \\\n",
      "0       0     0     1       0       1       0       0        1        0   \n",
      "1       0     1     0       0       0       1       0        1        0   \n",
      "2       1     0     0       0       0       1       0        0        0   \n",
      "3       1     0     0       0       0       1       0        0        0   \n",
      "4       0     0     0       0       0       1       0        0        0   \n",
      "..    ...   ...   ...     ...     ...     ...     ...      ...      ...   \n",
      "298     0     0     0       0       0       0       1        0        1   \n",
      "299     0     0     1       0       0       0       1        0        1   \n",
      "300     0     0     0       0       0       0       1        0        1   \n",
      "301     0     0     0       0       0       0       1        0        1   \n",
      "302     1     0     0       0       0       1       0        0        1   \n",
      "\n",
      "     slope_2  \n",
      "0          0  \n",
      "1          0  \n",
      "2          1  \n",
      "3          1  \n",
      "4          1  \n",
      "..       ...  \n",
      "298        0  \n",
      "299        0  \n",
      "300        0  \n",
      "301        0  \n",
      "302        0  \n",
      "\n",
      "[303 rows x 22 columns]\n"
     ]
    }
   ],
   "source": [
    "# Question 7\n",
    "for i in l :\n",
    "    df = df.drop([i], axis=1)\n",
    "print(df)"
   ]
  },
  {
   "cell_type": "code",
   "execution_count": 10,
   "metadata": {},
   "outputs": [],
   "source": [
    "# Question 8\n",
    "x = df.loc[:, df.columns != \"target\"]\n",
    "y = df[\"target\"]\n",
    "x_train, x_test , y_train, y_test = train_test_split(x, y, test_size=0.2, random_state=42)"
   ]
  },
  {
   "cell_type": "code",
   "execution_count": 11,
   "metadata": {},
   "outputs": [],
   "source": [
    "# Question 9\n",
    "x_train_scaled = MinMaxScaler().fit(x_train).transform(x_train)\n",
    "x_test_scaled = MinMaxScaler().fit(x_test).transform(x_test)"
   ]
  },
  {
   "cell_type": "code",
   "execution_count": 12,
   "metadata": {},
   "outputs": [
    {
     "name": "stdout",
     "output_type": "stream",
     "text": [
      "Logistic regression model - accuracy score : 0.89\n",
      "Logistic regression model - accuracy score : 0.93\n"
     ]
    }
   ],
   "source": [
    "# Question 10\n",
    "lr = LogisticRegression().fit(x_train_scaled, y_train)\n",
    "lr_pre = lr.predict(x_test_scaled)\n",
    "print(\"Logistic regression model - accuracy score :\", round(accuracy_score(y_test, lr_pre),2))\n",
    "print(\"Logistic regression model - accuracy score :\", round(precision_score(y_test, lr_pre),2))"
   ]
  },
  {
   "cell_type": "code",
   "execution_count": 13,
   "metadata": {},
   "outputs": [
    {
     "name": "stdout",
     "output_type": "stream",
     "text": [
      "KNN model - accuracy score : 0.79\n",
      "KNN model - accuracy score : 0.88\n"
     ]
    }
   ],
   "source": [
    "# Question 11\n",
    "knn = KNeighborsClassifier(n_neighbors=3).fit(x_train_scaled, y_train)\n",
    "knn_pre = knn.predict(x_test_scaled)\n",
    "print(\"KNN model - accuracy score :\", round(accuracy_score(y_test, knn_pre),2))\n",
    "print(\"KNN model - accuracy score :\", round(precision_score(y_test, knn_pre),2))"
   ]
  }
 ],
 "metadata": {
  "kernelspec": {
   "display_name": "Python 3.10.6 64-bit",
   "language": "python",
   "name": "python3"
  },
  "language_info": {
   "codemirror_mode": {
    "name": "ipython",
    "version": 3
   },
   "file_extension": ".py",
   "mimetype": "text/x-python",
   "name": "python",
   "nbconvert_exporter": "python",
   "pygments_lexer": "ipython3",
   "version": "3.10.6"
  },
  "orig_nbformat": 4,
  "vscode": {
   "interpreter": {
    "hash": "d3dc24cc7e02586248f8d00edbc6455c95af5b22abe18b79a1c967fbdeaf1c4e"
   }
  }
 },
 "nbformat": 4,
 "nbformat_minor": 2
}
